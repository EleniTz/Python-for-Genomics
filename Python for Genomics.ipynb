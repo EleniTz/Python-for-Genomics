{
  "cells": [
    {
      "metadata": {
        "collapsed": true,
        "trusted": false
      },
      "cell_type": "markdown",
      "source": "### Problem 1\n\nGiven a DNA sequence find the positions of all canonical donor splice site candidates in the sequence."
    },
    {
      "metadata": {
        "trusted": true
      },
      "cell_type": "code",
      "source": "DNA = input('Enter a DNA sequence: ')\npos = DNA.find('gt', 0) #positiion of donor splice site",
      "execution_count": 1,
      "outputs": [
        {
          "output_type": "stream",
          "name": "stdout",
          "text": "Enter a DNA sequence: acgtaagtctgg\n"
        }
      ]
    },
    {
      "metadata": {
        "trusted": true
      },
      "cell_type": "code",
      "source": "while pos > -1 :\n    print('Donor splice site candidate at position %d' %pos)\n    pos = DNA.find('gt', pos + 1) #position of the next gt candidate while pos > -1",
      "execution_count": 2,
      "outputs": [
        {
          "output_type": "stream",
          "text": "Donor splice site candidate at position 2\nDonor splice site candidate at position 6\n",
          "name": "stdout"
        }
      ]
    },
    {
      "metadata": {},
      "cell_type": "markdown",
      "source": "### Problem 2\n\nFind the length of the motifs"
    },
    {
      "metadata": {
        "trusted": true
      },
      "cell_type": "code",
      "source": "motifs = ['aatcgtgtccactc', 'gtctaataagct', 'gtagcct']\n\nfor m in motifs: \n    print(m,len(m))",
      "execution_count": 3,
      "outputs": [
        {
          "output_type": "stream",
          "text": "aatcgtgtccactc 14\ngtctaataagct 12\ngtagcct 7\n",
          "name": "stdout"
        }
      ]
    },
    {
      "metadata": {},
      "cell_type": "markdown",
      "source": "### Problem 3\n\nFind if all characters in a given protein sequence are valid amino acids"
    },
    {
      "metadata": {
        "trusted": true
      },
      "cell_type": "code",
      "source": "#for each character in a protein sequence, if character is not an amino acid print invalid and position\n\nprotein = 'SDVQRSITLUVNTAWOSKDFISOJCKMOASUDOIFJASKDFMAOSDJOASDJCOKACMSOJASODKFASDJFA'\n\nfor i in range(len(protein)):\n    if protein[i] not in 'ABCDEFGHIKLMNPQRSTVWXYZ':\n        print('protein contains invalid amino acid %s at position %d' %(protein[i],i))",
      "execution_count": 4,
      "outputs": [
        {
          "output_type": "stream",
          "text": "protein contains invalid amino acid U at position 9\nprotein contains invalid amino acid O at position 15\nprotein contains invalid amino acid O at position 22\nprotein contains invalid amino acid J at position 23\nprotein contains invalid amino acid O at position 27\nprotein contains invalid amino acid U at position 30\nprotein contains invalid amino acid O at position 32\nprotein contains invalid amino acid J at position 35\nprotein contains invalid amino acid O at position 43\nprotein contains invalid amino acid J at position 46\nprotein contains invalid amino acid O at position 47\nprotein contains invalid amino acid J at position 51\nprotein contains invalid amino acid O at position 53\nprotein contains invalid amino acid O at position 59\nprotein contains invalid amino acid J at position 60\nprotein contains invalid amino acid O at position 63\nprotein contains invalid amino acid J at position 70\n",
          "name": "stdout"
        }
      ]
    },
    {
      "metadata": {},
      "cell_type": "markdown",
      "source": "Find if a protein sequence is valid"
    },
    {
      "metadata": {
        "trusted": true
      },
      "cell_type": "code",
      "source": "protein = 'ABWTISCAIFALIJJOCQRE'\n\nfor i in range(len(protein)):\n    if protein[i] not in 'ABCDEFGHIKLMNPQRSTVWXYZ':\n        print('Not a valid protein sequence')\n        break ",
      "execution_count": 5,
      "outputs": [
        {
          "output_type": "stream",
          "text": "Not a valid protein sequence\n",
          "name": "stdout"
        }
      ]
    },
    {
      "metadata": {},
      "cell_type": "markdown",
      "source": "### Problem 4\n\nDelete all invalid amino acid characters from a protein sequence"
    },
    {
      "metadata": {
        "trusted": true
      },
      "cell_type": "code",
      "source": "protein = 'SDVQRSITLUVNTSDVQRSITLUVNT'\nvalid_protein = ''\n\nfor i in range(len(protein)):\n    if protein[i] not in 'ABCDEFGHIKLMNPQRSTVWXYZ':\n        continue\n    valid_protein = valid_protein + protein[i]\n    \nprint('Valid protein sequence: %s' %valid_protein)",
      "execution_count": 6,
      "outputs": [
        {
          "output_type": "stream",
          "text": "Valid protein sequence: SDVQRSITLVNTSDVQRSITLVNT\n",
          "name": "stdout"
        }
      ]
    },
    {
      "metadata": {},
      "cell_type": "markdown",
      "source": "### Problem 5\n\nFunction computing the GC percentage of a DNA sequence"
    },
    {
      "metadata": {
        "trusted": true
      },
      "cell_type": "code",
      "source": "def gc(dna):\n    'This function computes the GC percentage of a DNA sequence'\n    nbases = dna.count('n') + dna.count('N')\n    gcpercent = float(dna.count('c') + dna.count('C') + dna.count('g') + dna.count('G') * 100 / (len(dna)-nbases))\n    return gcpercent\n\ngc('AAAGTAGTCCGCCG')",
      "execution_count": 7,
      "outputs": [
        {
          "output_type": "execute_result",
          "execution_count": 7,
          "data": {
            "text/plain": "32.57142857142857"
          },
          "metadata": {}
        }
      ]
    },
    {
      "metadata": {},
      "cell_type": "markdown",
      "source": "### Problem 6\n\nFunction checking if a DNA sequence contains an in-frame stop codon"
    },
    {
      "metadata": {
        "trusted": true
      },
      "cell_type": "code",
      "source": "dna = input('Enter a DNA sequence: ')\n\nif(has_stop_codon(dna)):\n    print('Sequence has a stop codon')\nelse :\n    print('Sequence has no stop codons')",
      "execution_count": 21,
      "outputs": [
        {
          "output_type": "stream",
          "name": "stdout",
          "text": "Enter a DNA sequence: jjdfjk\n"
        },
        {
          "output_type": "error",
          "ename": "TypeError",
          "evalue": "has_stop_codon() missing 1 required positional argument: 'frame'",
          "traceback": [
            "\u001b[0;31m---------------------------------------------------------------------------\u001b[0m",
            "\u001b[0;31mTypeError\u001b[0m                                 Traceback (most recent call last)",
            "\u001b[0;32m<ipython-input-21-368c3d7eca4d>\u001b[0m in \u001b[0;36m<module>\u001b[0;34m\u001b[0m\n\u001b[1;32m      1\u001b[0m \u001b[0mdna\u001b[0m \u001b[0;34m=\u001b[0m \u001b[0minput\u001b[0m\u001b[0;34m(\u001b[0m\u001b[0;34m'Enter a DNA sequence: '\u001b[0m\u001b[0;34m)\u001b[0m\u001b[0;34m\u001b[0m\u001b[0m\n\u001b[1;32m      2\u001b[0m \u001b[0;34m\u001b[0m\u001b[0m\n\u001b[0;32m----> 3\u001b[0;31m \u001b[0;32mif\u001b[0m\u001b[0;34m(\u001b[0m\u001b[0mhas_stop_codon\u001b[0m\u001b[0;34m(\u001b[0m\u001b[0mdna\u001b[0m\u001b[0;34m)\u001b[0m\u001b[0;34m)\u001b[0m\u001b[0;34m:\u001b[0m\u001b[0;34m\u001b[0m\u001b[0m\n\u001b[0m\u001b[1;32m      4\u001b[0m     \u001b[0mprint\u001b[0m\u001b[0;34m(\u001b[0m\u001b[0;34m'Sequence has a stop codon'\u001b[0m\u001b[0;34m)\u001b[0m\u001b[0;34m\u001b[0m\u001b[0m\n\u001b[1;32m      5\u001b[0m \u001b[0;32melse\u001b[0m \u001b[0;34m:\u001b[0m\u001b[0;34m\u001b[0m\u001b[0m\n",
            "\u001b[0;31mTypeError\u001b[0m: has_stop_codon() missing 1 required positional argument: 'frame'"
          ]
        }
      ]
    },
    {
      "metadata": {
        "trusted": true
      },
      "cell_type": "code",
      "source": "def has_stop_codon(dna, frame): #or has_stop_codon(dna, frame = 0)\n    'This function checks if the DNA sequence has an in-frame stop codon'\n    stop_codon_found = False \n    stop_codons = ['tga', 'tag', 'taa']\n    for i in range(frame, len(dna), 3): #incrementing by 3\n        codon = dna[i:i + 3].lower()\n        if codon in stop_codons : \n            stop_codon_found = True\n            break \n    return stop_codon_found \n\ndna = 'atgagcgggg'\n\nhas_stop_codon(dna, 1)",
      "execution_count": 22,
      "outputs": [
        {
          "output_type": "execute_result",
          "execution_count": 22,
          "data": {
            "text/plain": "True"
          },
          "metadata": {}
        }
      ]
    },
    {
      "metadata": {},
      "cell_type": "markdown",
      "source": "### Problem 7\n\nFunction to reverse complement a DNA sequence"
    },
    {
      "metadata": {
        "trusted": true
      },
      "cell_type": "code",
      "source": "def reversecomplement(seq):\n    '''Return the reverse complement of the DNA string'''\n    seq = seq[::-1]\n    seq = complement(seq)\n    return seq\n\ndef reverse_string(seq):\n    return seq[:: -1]\n\ndef complement(dna):\n    '''Return the complementary sequence string'''\n    basecomplement = {'A':'T', 'C':'G','G':'C', 'T':'A','N':'N', 'a':'t', 'c':'g', 'g':'c', 't':'a', 'n':'n'}\n    letters = list(dna)\n    letters = [basecomplement[base] for base in letters]\n    return ''.join(letters)",
      "execution_count": 27,
      "outputs": []
    },
    {
      "metadata": {
        "trusted": true
      },
      "cell_type": "code",
      "source": "seq = 'AGCTAA'\n\nreversecomplement(seq)",
      "execution_count": 30,
      "outputs": [
        {
          "output_type": "execute_result",
          "execution_count": 30,
          "data": {
            "text/plain": "'TTAGCT'"
          },
          "metadata": {}
        }
      ]
    },
    {
      "metadata": {
        "trusted": true
      },
      "cell_type": "code",
      "source": "",
      "execution_count": null,
      "outputs": []
    }
  ],
  "metadata": {
    "kernelspec": {
      "name": "python36",
      "display_name": "Python 3.6",
      "language": "python"
    },
    "language_info": {
      "mimetype": "text/x-python",
      "nbconvert_exporter": "python",
      "name": "python",
      "pygments_lexer": "ipython3",
      "version": "3.6.6",
      "file_extension": ".py",
      "codemirror_mode": {
        "version": 3,
        "name": "ipython"
      }
    }
  },
  "nbformat": 4,
  "nbformat_minor": 2
}